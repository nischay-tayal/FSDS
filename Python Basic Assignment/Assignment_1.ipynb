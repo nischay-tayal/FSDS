{
 "cells": [
  {
   "cell_type": "raw",
   "id": "852aee18",
   "metadata": {},
   "source": [
    "1. In the below elements which of them are values or an expression? eg:- values can be integer or string and expressions will be mathematical operators.*,'hello',-87.8,-,/,+,6"
   ]
  },
  {
   "cell_type": "raw",
   "id": "5f12888e",
   "metadata": {},
   "source": [
    "Values: 'hello',-87.8,6\n",
    "Expression: *,-,/,+"
   ]
  },
  {
   "cell_type": "raw",
   "id": "36b0e331",
   "metadata": {},
   "source": [
    "2. What is the difference between string and variable?"
   ]
  },
  {
   "cell_type": "raw",
   "id": "16bfecfe",
   "metadata": {},
   "source": [
    "String: String is a type of information which would store in a variable and, it can be written in quotes such as: \"Nischay\", 'Nischay'\n",
    "Variable: It's the container-like object in which we may store data such as: a,b"
   ]
  },
  {
   "cell_type": "raw",
   "id": "f0ee418a",
   "metadata": {},
   "source": [
    "3. Describe three different data types."
   ]
  },
  {
   "cell_type": "raw",
   "id": "8da1c3d4",
   "metadata": {},
   "source": [
    "List: A list is a data structure that stores several data elements in a single variable eg-list = [\"me\", \"I\", \"am\"]\n",
    "Integer: An integer is a kind of data that can only contain numerical values like 12,4,6, and so on.\n",
    "Float: Float can only hold floating values like 2.134, 0.577, and so on."
   ]
  },
  {
   "cell_type": "raw",
   "id": "d7f6588b",
   "metadata": {},
   "source": [
    "4. What is an expression made up of? What do all expressions do?"
   ]
  },
  {
   "cell_type": "raw",
   "id": "a63de342",
   "metadata": {},
   "source": [
    "Values, containers, and mathematical operators (operands) make form an expression, for example-To evaluate the numbers or represent the result on the screen, expressions such as a = 2 + 3 are used."
   ]
  },
  {
   "cell_type": "raw",
   "id": "ae159801",
   "metadata": {},
   "source": [
    "5. This assignment statements, like spam = 10. What is the difference between an\n",
    "expression and a statement?"
   ]
  },
  {
   "cell_type": "raw",
   "id": "7c1087d3",
   "metadata": {},
   "source": [
    "A combination of values, variables, and operators is called an expression. The interpreter evaluates an expression when we type it into the terminal, which means it determines its value.\n",
    "\n",
    "for example-  4*5+20-40\n",
    "\n",
    "A statement is a piece of code that performs a specific task, such as establishing a variable or displaying a value.\n",
    "The interpreter executes a statement when we write it, which means it does what the statement says. Statements, in general, do not have values.\n",
    "\n",
    "for example-  print(\"Hello World\")"
   ]
  },
  {
   "cell_type": "raw",
   "id": "51249c6b",
   "metadata": {},
   "source": [
    "6. After running the following code, what does the variable bacon contain?\n",
    "bacon = 22\n",
    "bacon + 1"
   ]
  },
  {
   "cell_type": "code",
   "execution_count": 1,
   "id": "06eafa6e",
   "metadata": {},
   "outputs": [
    {
     "data": {
      "text/plain": [
       "23"
      ]
     },
     "execution_count": 1,
     "metadata": {},
     "output_type": "execute_result"
    }
   ],
   "source": [
    "bacon = 22\n",
    "bacon + 1"
   ]
  },
  {
   "cell_type": "code",
   "execution_count": 2,
   "id": "e8a91d6c",
   "metadata": {},
   "outputs": [
    {
     "data": {
      "text/plain": [
       "22"
      ]
     },
     "execution_count": 2,
     "metadata": {},
     "output_type": "execute_result"
    }
   ],
   "source": [
    "bacon "
   ]
  },
  {
   "cell_type": "raw",
   "id": "f2b04ced",
   "metadata": {},
   "source": [
    "7. What should the values of the following two terms be?\n",
    "'spam' + 'spamspam'\n",
    "'spam' * 3"
   ]
  },
  {
   "cell_type": "code",
   "execution_count": 3,
   "id": "4ba2acb4",
   "metadata": {},
   "outputs": [
    {
     "name": "stdout",
     "output_type": "stream",
     "text": [
      "spamspamspam\n",
      "spamspamspam\n"
     ]
    }
   ],
   "source": [
    "print('spam'+'spamspam') # string concatenation\n",
    "print('spam'*3) # string multiplication"
   ]
  },
  {
   "cell_type": "raw",
   "id": "e4fc09c4",
   "metadata": {},
   "source": [
    "8. Why is eggs a valid variable name while 100 is invalid?"
   ]
  },
  {
   "cell_type": "raw",
   "id": "32785364",
   "metadata": {},
   "source": [
    "We can't just start calling variables by their numeric names. If we start with a string-like alphabet name, then we may move on to integer. The terms e100 and eggs100 are both acceptable."
   ]
  },
  {
   "cell_type": "raw",
   "id": "0ac952d9",
   "metadata": {},
   "source": [
    "9. What three functions can be used to get the integer, floating-point number, or string\n",
    "version of a value?"
   ]
  },
  {
   "cell_type": "raw",
   "id": "895a8a55",
   "metadata": {},
   "source": [
    "The int(), float(), and str() functions return the integer, floating-point number, and string versions of the value supplied to them, respectively."
   ]
  },
  {
   "cell_type": "code",
   "execution_count": 4,
   "id": "d214b1b1",
   "metadata": {},
   "outputs": [
    {
     "name": "stdout",
     "output_type": "stream",
     "text": [
      "int(10.0) ->  10\n",
      "float(10) ->  10.0\n",
      "str(10) ->  10\n"
     ]
    }
   ],
   "source": [
    "# Examples:\n",
    "print('int(10.0) -> ',int(10.0)) # int() function converts given input to int\n",
    "print('float(10) -> ',float(10)) # float() function converts given input to float\n",
    "print('str(10) -> ',str(10)) # str() function converts given input to string"
   ]
  },
  {
   "cell_type": "raw",
   "id": "4841d4ac",
   "metadata": {},
   "source": [
    "10. Why does this expression cause an error? How can you fix it?\n",
    "'I have eaten' + 99 + 'burritos.'"
   ]
  },
  {
   "cell_type": "code",
   "execution_count": 10,
   "id": "832973cb",
   "metadata": {},
   "outputs": [
    {
     "ename": "TypeError",
     "evalue": "can only concatenate str (not \"int\") to str",
     "output_type": "error",
     "traceback": [
      "\u001b[1;31m---------------------------------------------------------------------------\u001b[0m",
      "\u001b[1;31mTypeError\u001b[0m                                 Traceback (most recent call last)",
      "\u001b[1;32mC:\\Users\\NISCHA~1\\AppData\\Local\\Temp/ipykernel_23812/1774935878.py\u001b[0m in \u001b[0;36m<module>\u001b[1;34m\u001b[0m\n\u001b[1;32m----> 1\u001b[1;33m \u001b[1;34m'I have eaten '\u001b[0m \u001b[1;33m+\u001b[0m \u001b[1;36m99\u001b[0m \u001b[1;33m+\u001b[0m \u001b[1;34m' burritos.'\u001b[0m\u001b[1;33m\u001b[0m\u001b[1;33m\u001b[0m\u001b[0m\n\u001b[0m",
      "\u001b[1;31mTypeError\u001b[0m: can only concatenate str (not \"int\") to str"
     ]
    }
   ],
   "source": [
    "'I have eaten ' + 99 + ' burritos.'"
   ]
  },
  {
   "cell_type": "raw",
   "id": "e3239a67",
   "metadata": {},
   "source": [
    "This cause of error is 99.because 99 is not a string. 99 must be typecasted to a string to fix this error."
   ]
  },
  {
   "cell_type": "code",
   "execution_count": 9,
   "id": "ad6d1236",
   "metadata": {},
   "outputs": [
    {
     "data": {
      "text/plain": [
       "'I have eaten 99 burritos.'"
      ]
     },
     "execution_count": 9,
     "metadata": {},
     "output_type": "execute_result"
    }
   ],
   "source": [
    "'I have eaten ' + str(99) + ' burritos.'"
   ]
  }
 ],
 "metadata": {
  "kernelspec": {
   "display_name": "Python 3 (ipykernel)",
   "language": "python",
   "name": "python3"
  },
  "language_info": {
   "codemirror_mode": {
    "name": "ipython",
    "version": 3
   },
   "file_extension": ".py",
   "mimetype": "text/x-python",
   "name": "python",
   "nbconvert_exporter": "python",
   "pygments_lexer": "ipython3",
   "version": "3.9.7"
  }
 },
 "nbformat": 4,
 "nbformat_minor": 5
}
