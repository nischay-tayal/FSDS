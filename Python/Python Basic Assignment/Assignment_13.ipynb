{
 "cells": [
  {
   "cell_type": "markdown",
   "id": "0c3ef403",
   "metadata": {},
   "source": [
    "# Assignment_13"
   ]
  },
  {
   "cell_type": "markdown",
   "id": "85d37ede",
   "metadata": {},
   "source": [
    "### 1. What advantages do Excel spreadsheets have over CSV spreadsheets?"
   ]
  },
  {
   "cell_type": "markdown",
   "id": "686483f9",
   "metadata": {},
   "source": [
    "1. We can perform various operations on data in excel but no in csv.\n",
    "2. Excel can store more complex data.\n",
    "3. No distinction between data type in csv"
   ]
  },
  {
   "cell_type": "markdown",
   "id": "b0bc75bd",
   "metadata": {},
   "source": [
    "### 2.What do you pass to csv.reader() and csv.writer() to create reader and writer objects?"
   ]
  },
  {
   "cell_type": "code",
   "execution_count": null,
   "id": "6e223789",
   "metadata": {},
   "outputs": [],
   "source": [
    "import csv\n",
    "with open('text.csv','r') as file:\n",
    "    csv_file = csv.reader(file,delimiter=',')\n",
    "    for ele in csv_file:\n",
    "        print(ele)"
   ]
  },
  {
   "cell_type": "markdown",
   "id": "9952d19b",
   "metadata": {},
   "source": [
    "### 3. What modes do File objects for reader and writer objects need to be opened in?"
   ]
  },
  {
   "cell_type": "markdown",
   "id": "1c37e398",
   "metadata": {},
   "source": [
    "for reader object we open file in read mode 'r'\n",
    "and for writer object we open file in write mode 'w'."
   ]
  },
  {
   "cell_type": "markdown",
   "id": "2d809728",
   "metadata": {},
   "source": [
    "### 4. What method takes a list argument and writes it to a CSV file?"
   ]
  },
  {
   "cell_type": "markdown",
   "id": "53f625c3",
   "metadata": {},
   "source": [
    "For csv.reader(iterable_file_object), the file objects needed to be opened in read mode mode='r' Whereas for csv.writer(iterable_file_object) the file objects needed to be opened in write mode mode='w'"
   ]
  },
  {
   "cell_type": "markdown",
   "id": "be1e18e2",
   "metadata": {},
   "source": [
    "### 5. What do the keyword arguments delimiter and line terminator do?"
   ]
  },
  {
   "cell_type": "markdown",
   "id": "9c7ac5d9",
   "metadata": {},
   "source": [
    "Lets take the example of a csv file:\n",
    "First Name, Last Name, Age\n",
    "Nischay, Tayal, 21\n",
    "Manav, Goyal, 25\n",
    "Here ',' is Delimiter. We can use any Character as per our needs if required. Similarly Line Terminator comes at end of line by default it is newline and can be changed accourding to Requirement."
   ]
  },
  {
   "cell_type": "markdown",
   "id": "351daf1a",
   "metadata": {},
   "source": [
    "### 6. What function takes a string of JSON data and returns a Python data structure?"
   ]
  },
  {
   "cell_type": "markdown",
   "id": "4c6aeaa3",
   "metadata": {},
   "source": [
    "loads() function takes in a string and returns a json object."
   ]
  },
  {
   "cell_type": "markdown",
   "id": "31f451d9",
   "metadata": {},
   "source": [
    "### 7. What function takes a Python data structure and returns a string of JSON data?"
   ]
  },
  {
   "cell_type": "markdown",
   "id": "58230c2c",
   "metadata": {},
   "source": [
    "dumps() function takes in a json object and returns a string."
   ]
  }
 ],
 "metadata": {
  "kernelspec": {
   "display_name": "Python 3 (ipykernel)",
   "language": "python",
   "name": "python3"
  },
  "language_info": {
   "codemirror_mode": {
    "name": "ipython",
    "version": 3
   },
   "file_extension": ".py",
   "mimetype": "text/x-python",
   "name": "python",
   "nbconvert_exporter": "python",
   "pygments_lexer": "ipython3",
   "version": "3.9.7"
  }
 },
 "nbformat": 4,
 "nbformat_minor": 5
}
