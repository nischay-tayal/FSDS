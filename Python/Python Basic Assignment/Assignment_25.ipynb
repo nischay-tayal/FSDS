{
 "cells": [
  {
   "cell_type": "markdown",
   "id": "aad223bb",
   "metadata": {},
   "source": [
    "# Assignment_25"
   ]
  },
  {
   "cell_type": "markdown",
   "id": "12a1ad0e",
   "metadata": {},
   "source": [
    "### 1) What is the difference between enclosing a list comprehension in square brackets and parentheses?"
   ]
  },
  {
   "cell_type": "markdown",
   "id": "ef0b93e3",
   "metadata": {},
   "source": [
    "A list is returned by enclosing a list comprehension in square brackets. however, a list comprehension inside in parentheses produces a generator object."
   ]
  },
  {
   "cell_type": "code",
   "execution_count": 2,
   "id": "dada6181",
   "metadata": {},
   "outputs": [
    {
     "name": "stdout",
     "output_type": "stream",
     "text": [
      "[0, 1, 2, 3, 4, 5, 6, 7, 8, 9] <class 'list'>\n",
      "<generator object <genexpr> at 0x0000025CF2FADCF0> <class 'generator'>\n"
     ]
    }
   ],
   "source": [
    "l = [ele for ele in range(10)]\n",
    "print(l, type(l))\n",
    "g = (ele for ele in range(10))\n",
    "print(g, type(g))"
   ]
  },
  {
   "cell_type": "markdown",
   "id": "f586f75d",
   "metadata": {},
   "source": [
    "### 2) What is the relationship between generators and iterators?"
   ]
  },
  {
   "cell_type": "markdown",
   "id": "b1bdd8a3",
   "metadata": {},
   "source": [
    "A python iterator and generator both fetch information from the predefined libraries. They help in the proper conduct of the code.Iterators are objects which use the next() method to get the following values of a sequence. Generators are functions that produce or yield a sequence of values using the yield keyword."
   ]
  },
  {
   "cell_type": "markdown",
   "id": "3745e838",
   "metadata": {},
   "source": [
    "### 3) What are the signs that a function is a generator function?"
   ]
  },
  {
   "cell_type": "markdown",
   "id": "5f91605f",
   "metadata": {},
   "source": [
    "A yield statement is used in place of a return statement in a generator function. A generator function will always give back a generator iterable object. unlike normal functions, which can return a string, list, tuple, dict, NoneType, etc."
   ]
  },
  {
   "cell_type": "markdown",
   "id": "6ad56ac3",
   "metadata": {},
   "source": [
    "### 4) What is the purpose of a yield statement?"
   ]
  },
  {
   "cell_type": "markdown",
   "id": "60803e90",
   "metadata": {},
   "source": [
    "In its simplest form, a yield statement is comparable to a return statement, with the exception that yield instead sends a value to the code looping over the generator function and pauses the function's execution rather than stopping it and returning."
   ]
  },
  {
   "cell_type": "markdown",
   "id": "6316ac2c",
   "metadata": {},
   "source": [
    "### 5) What is the relationship between map calls and list comprehensions? Make a comparison and contrast between the two."
   ]
  },
  {
   "cell_type": "markdown",
   "id": "17364f28",
   "metadata": {},
   "source": [
    "The main differences between map calls and list comprehensiosn are:\n",
    "\n",
    "1. List comprehension is more concise and easier to read as compared to map.\n",
    "2. List comprehension allows filtering. In map, we have no such facility. For example, to print all odd numbers in range of 50, we can write [n for n in range(50) if n%2 != 0]. There is no alternate for it in map\n",
    "3. List comprehension are used when a list of results is required as final output.but map only returns a map object. it needs to be explicitly coverted to desired datatype.\n",
    "4. List comprehension is faster than map when we need to evaluate expressions that are too long or complicated to express\n",
    "5. Map is faster in case of calling an already defined function on a set of values."
   ]
  }
 ],
 "metadata": {
  "kernelspec": {
   "display_name": "Python 3 (ipykernel)",
   "language": "python",
   "name": "python3"
  },
  "language_info": {
   "codemirror_mode": {
    "name": "ipython",
    "version": 3
   },
   "file_extension": ".py",
   "mimetype": "text/x-python",
   "name": "python",
   "nbconvert_exporter": "python",
   "pygments_lexer": "ipython3",
   "version": "3.9.7"
  }
 },
 "nbformat": 4,
 "nbformat_minor": 5
}
