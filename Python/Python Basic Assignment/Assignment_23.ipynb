{
 "cells": [
  {
   "cell_type": "markdown",
   "id": "b31c6d15",
   "metadata": {},
   "source": [
    "# Assignment_23"
   ]
  },
  {
   "cell_type": "markdown",
   "id": "07c0b563",
   "metadata": {},
   "source": [
    "### 1. What is the result of the code, and why?\n",
    "### >>> def func(a, b=6, c=8):\n",
    "### print(a, b, c)\n",
    "### >>> func(1, 2)"
   ]
  },
  {
   "cell_type": "markdown",
   "id": "d16d71ca",
   "metadata": {},
   "source": [
    "1 2 8 is the outcome of the code above. it is due to the fact that the function uses the c which include 8 default value that was given at the time of declaration."
   ]
  },
  {
   "cell_type": "code",
   "execution_count": 1,
   "id": "dffae3e7",
   "metadata": {},
   "outputs": [
    {
     "name": "stdout",
     "output_type": "stream",
     "text": [
      "1 2 8\n"
     ]
    }
   ],
   "source": [
    "def func(a,b=6,c=8):\n",
    "    print(a,b,c)\n",
    "func(1,2)"
   ]
  },
  {
   "cell_type": "markdown",
   "id": "860b198d",
   "metadata": {},
   "source": [
    "### 2. What is the result of this code, and why?\n",
    "### >>> def func(a, b, c=5):\n",
    "### print(a, b, c)\n",
    "### >>> func(1, c=3, b=2)"
   ]
  },
  {
   "cell_type": "markdown",
   "id": "2659db53",
   "metadata": {},
   "source": [
    "1 2 3 is the output of the code above. The reason for this is because the order of arguments is also ignored by the Python interpreter when calling a function since the function only uses default values when a value for an argument is not given."
   ]
  },
  {
   "cell_type": "code",
   "execution_count": 2,
   "id": "e88216db",
   "metadata": {},
   "outputs": [
    {
     "name": "stdout",
     "output_type": "stream",
     "text": [
      "1 2 3\n"
     ]
    }
   ],
   "source": [
    "def func(a,b,c=5):\n",
    "    print(a,b,c)\n",
    "func(1,c=3,b=2)"
   ]
  },
  {
   "cell_type": "markdown",
   "id": "fdba5816",
   "metadata": {},
   "source": [
    "### 3. How about this code: what is its result, and why?\n",
    "### >>> def func(a, *pargs):\n",
    "### print(a, pargs)\n",
    "### >>> func(1, 2, 3)"
   ]
  },
  {
   "cell_type": "markdown",
   "id": "bdfdf68d",
   "metadata": {},
   "source": [
    "The code's output is 1, thus (2,3). * Variable length arguments are referred to as pargs. When we are unsure about the number of arguments to pass to a function, we use this format. A tuple will be used to hold all of the values under this parameter."
   ]
  },
  {
   "cell_type": "code",
   "execution_count": 3,
   "id": "622f8c47",
   "metadata": {},
   "outputs": [
    {
     "name": "stdout",
     "output_type": "stream",
     "text": [
      "1 (2, 3)\n"
     ]
    }
   ],
   "source": [
    "def func(a, *pargs):\n",
    "    print(a,pargs)\n",
    "func(1,2,3)"
   ]
  },
  {
   "cell_type": "markdown",
   "id": "ce442201",
   "metadata": {},
   "source": [
    "### 4. What does this code print, and why?\n",
    "### >>> def func(a, **kargs):\n",
    "### print(a, kargs)\n",
    "### >>> func(a=1, c=3, b=2)"
   ]
  },
  {
   "cell_type": "markdown",
   "id": "2942f9b0",
   "metadata": {},
   "source": [
    "The output of the above code is 1 \"c\": 3 \"b\": 2 ** Variable length keyword arguments are known as args. When providing key-value pairs as input to a function, this format is used. These key-value pairs will all be stored in dictionaries."
   ]
  },
  {
   "cell_type": "code",
   "execution_count": 4,
   "id": "698f17cc",
   "metadata": {},
   "outputs": [
    {
     "name": "stdout",
     "output_type": "stream",
     "text": [
      "1 {'c': 3, 'b': 2}\n"
     ]
    }
   ],
   "source": [
    "def func(a,**kargs):\n",
    "    print(a,kargs)\n",
    "func(a=1,c=3,b=2)"
   ]
  },
  {
   "cell_type": "markdown",
   "id": "240baef3",
   "metadata": {},
   "source": [
    "### 5. What gets printed by this, and explain?\n",
    "### >>> def func(a, b, c=8, d=5): print(a, b, c, d)\n",
    "### >>> func(1, *(5, 6))"
   ]
  },
  {
   "cell_type": "markdown",
   "id": "a491b758",
   "metadata": {},
   "source": [
    "The output of the above is 1 5 6 5. This reason for this function not throwing an error is because, this function expects 4 arguments. the value for a is provided explicitly whereas for arguments b and c, the function will expand the *(5,6) and consider the value of b as 5 and value of c as 6. since the default value of d is provided in function declaration d value will be 5. However it is recommended to use the feature of positional arguments at the end."
   ]
  },
  {
   "cell_type": "code",
   "execution_count": 5,
   "id": "b70fa2c9",
   "metadata": {},
   "outputs": [
    {
     "name": "stdout",
     "output_type": "stream",
     "text": [
      "1 5 6 5\n"
     ]
    }
   ],
   "source": [
    "def func(a,b,c=8,d=5):\n",
    "    print(a,b,c,d)\n",
    "func(1,*(5,6))"
   ]
  },
  {
   "cell_type": "markdown",
   "id": "e1a63af3",
   "metadata": {},
   "source": [
    "### 6. what is the result of this, and explain?\n",
    "### >>> def func(a, b, c): a = 2; b[0] = &#39;x&#39;; c[&#39;a&#39;] = &#39;y&#39;\n",
    "### >>> l=1; m=[1]; n={&#39;a&#39;:0}\n",
    "### >>> func(l, m, n)\n",
    "### >>> l, m, n"
   ]
  },
  {
   "cell_type": "markdown",
   "id": "f66eacda",
   "metadata": {},
   "source": [
    "The output of above code is 1, ['x'], {'a': 'y'}.\n",
    "1. Despite the fact that Python values indentation. The ability to declare a full function on a single line is provided by its. where statements within the body of a function are separated by;\n",
    "2. When l,m,n are provided as inputs to the function. its modifies the values of l,m,n and sets the value of l=2 ,m=['x'] and n={'a':'y'}"
   ]
  },
  {
   "cell_type": "code",
   "execution_count": 6,
   "id": "5b281fe5",
   "metadata": {},
   "outputs": [
    {
     "data": {
      "text/plain": [
       "(1, ['x'], {'a': 'y'})"
      ]
     },
     "execution_count": 6,
     "metadata": {},
     "output_type": "execute_result"
    }
   ],
   "source": [
    "def func(a, b, c): a = 2; b[0] = 'x'; c['a'] = 'y'\n",
    "l=1; m=[1]; n={'a':0}\n",
    "func(l, m, n)\n",
    "l,m,n"
   ]
  }
 ],
 "metadata": {
  "kernelspec": {
   "display_name": "Python 3 (ipykernel)",
   "language": "python",
   "name": "python3"
  },
  "language_info": {
   "codemirror_mode": {
    "name": "ipython",
    "version": 3
   },
   "file_extension": ".py",
   "mimetype": "text/x-python",
   "name": "python",
   "nbconvert_exporter": "python",
   "pygments_lexer": "ipython3",
   "version": "3.9.7"
  }
 },
 "nbformat": 4,
 "nbformat_minor": 5
}
