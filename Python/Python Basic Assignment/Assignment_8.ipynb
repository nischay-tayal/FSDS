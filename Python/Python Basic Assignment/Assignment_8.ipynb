{
 "cells": [
  {
   "cell_type": "markdown",
   "id": "9e217cd3",
   "metadata": {},
   "source": [
    "# Assignment_8"
   ]
  },
  {
   "cell_type": "markdown",
   "id": "8a7d494f",
   "metadata": {},
   "source": [
    "### 1. Is the Python Standard Library included with PyInputPlus?"
   ]
  },
  {
   "cell_type": "markdown",
   "id": "c87f0df8",
   "metadata": {},
   "source": [
    "No, PyInputPlus is not a part of Python Standard Library, it needs to be installed explicitly using the command !pip install PyInputPlus"
   ]
  },
  {
   "cell_type": "markdown",
   "id": "17ba7efd",
   "metadata": {},
   "source": [
    "### 2. Why is PyInputPlus commonly imported with import pyinputplus as pypi?"
   ]
  },
  {
   "cell_type": "markdown",
   "id": "4b61e882",
   "metadata": {},
   "source": [
    "To use a shorter name when invoking the module's functions, you can import the module with import pyinputplus as pyip."
   ]
  },
  {
   "cell_type": "markdown",
   "id": "484153f0",
   "metadata": {},
   "source": [
    "### 3. How do you distinguish between inputInt() and inputFloat()?"
   ]
  },
  {
   "cell_type": "markdown",
   "id": "51183332",
   "metadata": {},
   "source": [
    "inputInt() is for integers i.e number without decimal where as inputFloat() belongs to float class i.e with decimal."
   ]
  },
  {
   "cell_type": "markdown",
   "id": "21ee952c",
   "metadata": {},
   "source": [
    "### 4. Using PyInputPlus, how do you ensure that the user enters a whole number between 0 and 99?"
   ]
  },
  {
   "cell_type": "markdown",
   "id": "871b1999",
   "metadata": {},
   "source": [
    "The inputInt() method, which is part of the PyInputPlus package, only returns integer numbers. I'ii utilise parameters like min & max to make sure that the user only inputs numbers that fall within the set range in order to limit the input between 0 and 99."
   ]
  },
  {
   "cell_type": "markdown",
   "id": "aa05b7e2",
   "metadata": {},
   "source": [
    "### 5. What is transferred to the keyword arguments allowRegexes and blockRegexes?"
   ]
  },
  {
   "cell_type": "markdown",
   "id": "986242e6",
   "metadata": {},
   "source": [
    "We may use a list of regular expression strings as keyword arguments for the allowRegexes and blockRegexes functions to specify what the pyinputplus function will accept or reject as valid input."
   ]
  },
  {
   "cell_type": "markdown",
   "id": "38ffea7d",
   "metadata": {},
   "source": [
    "### 6. If a blank input is entered three times, what does inputStr(limit=3) do?"
   ]
  },
  {
   "cell_type": "markdown",
   "id": "39ff1161",
   "metadata": {},
   "source": [
    "This error will be displayed:\n",
    "pyinputplus.\n",
    "RetryLimitException"
   ]
  },
  {
   "cell_type": "markdown",
   "id": "41932dba",
   "metadata": {},
   "source": [
    "### 7. If blank input is entered three times, what does inputStr(limit=3, default=&#39;hello&#39;) do?"
   ]
  },
  {
   "cell_type": "markdown",
   "id": "407afffb",
   "metadata": {},
   "source": [
    "Since the default parameter is set to \"hello,\" when a blank input is entered three times, the RetryLimitException error is raised instead. The function will respond to the caller function by returning \"hello\""
   ]
  }
 ],
 "metadata": {
  "kernelspec": {
   "display_name": "Python 3 (ipykernel)",
   "language": "python",
   "name": "python3"
  },
  "language_info": {
   "codemirror_mode": {
    "name": "ipython",
    "version": 3
   },
   "file_extension": ".py",
   "mimetype": "text/x-python",
   "name": "python",
   "nbconvert_exporter": "python",
   "pygments_lexer": "ipython3",
   "version": "3.9.7"
  }
 },
 "nbformat": 4,
 "nbformat_minor": 5
}
