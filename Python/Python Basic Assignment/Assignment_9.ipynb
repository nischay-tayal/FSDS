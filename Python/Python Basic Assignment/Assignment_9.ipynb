{
 "cells": [
  {
   "cell_type": "markdown",
   "id": "6f7816a4",
   "metadata": {},
   "source": [
    "# Assignment_9"
   ]
  },
  {
   "cell_type": "markdown",
   "id": "fae60d05",
   "metadata": {},
   "source": [
    "### 1. To what does a relative path refer?"
   ]
  },
  {
   "cell_type": "markdown",
   "id": "951efa5a",
   "metadata": {},
   "source": [
    "The path to a file with regard to your current working directory is known as a relative path (PWD).\n",
    "As an example, suppose the absolute path to the file stuff.txt is C:/users/admin/docs/stuff.txt The relative path to stuff.txt would be docs/stuff.txt if my PWD was C:/users/admin/.\n",
    "Note: PWD plus a relative path equals an absolute path."
   ]
  },
  {
   "cell_type": "markdown",
   "id": "4745b5d6",
   "metadata": {},
   "source": [
    "### 2. What does an absolute path start with your operating system?"
   ]
  },
  {
   "cell_type": "markdown",
   "id": "1c733c71",
   "metadata": {},
   "source": [
    "The absolute path in Linux-based systems begins with /. Unlike Windows-based systems, where the absolute path begins with C:"
   ]
  },
  {
   "cell_type": "markdown",
   "id": "0fdf8b54",
   "metadata": {},
   "source": [
    "### 3. What do the functions os.getcwd() and os.chdir() do?"
   ]
  },
  {
   "cell_type": "markdown",
   "id": "40b509af",
   "metadata": {},
   "source": [
    "os.chdir() performs change directory\n",
    "whereas,os.getcwd() gives current working directory"
   ]
  },
  {
   "cell_type": "markdown",
   "id": "70a1cd43",
   "metadata": {},
   "source": [
    "### 4. What are the . and .. folders?"
   ]
  },
  {
   "cell_type": "markdown",
   "id": "5d1c6a05",
   "metadata": {},
   "source": [
    ". Represents the Current Directory Whereas .. Represents the Parent Directory of the Current Directory"
   ]
  },
  {
   "cell_type": "markdown",
   "id": "401f75c0",
   "metadata": {},
   "source": [
    "### 5. In C:\\bacon\\eggs\\spam.txt, which part is the dir name, and which part is the base name?"
   ]
  },
  {
   "cell_type": "markdown",
   "id": "6631cc22",
   "metadata": {},
   "source": [
    "For C:\\bacon\\eggs\\spam.txt\n",
    "The dir name is C:\\\\bacon\\\\eggs\n",
    " And, The Base name is spam.txt"
   ]
  },
  {
   "cell_type": "markdown",
   "id": "620ed31a",
   "metadata": {},
   "source": [
    "### 6. What are the three “mode” arguments that can be passed to the open() function?"
   ]
  },
  {
   "cell_type": "markdown",
   "id": "56d344aa",
   "metadata": {},
   "source": [
    "Three mode arguments are:\n",
    "    1. 'r' --> open for reading in text mode.\n",
    "    2. 'w' --> open for writing.\n",
    "    3. 'a' --> open for appending."
   ]
  },
  {
   "cell_type": "markdown",
   "id": "55190a2a",
   "metadata": {},
   "source": [
    "### 7. What happens if an existing file is opened in write mode?"
   ]
  },
  {
   "cell_type": "markdown",
   "id": "f956101c",
   "metadata": {},
   "source": [
    "When an existing file is opened in write mode previous content is erased and file is treated as new empty file."
   ]
  },
  {
   "cell_type": "markdown",
   "id": "51aa5ce5",
   "metadata": {},
   "source": [
    "### 8. How do you tell the difference between read() and readlines()?"
   ]
  },
  {
   "cell_type": "markdown",
   "id": "78cc2fa3",
   "metadata": {},
   "source": [
    "read()      --> it iterates over each character.\n",
    "whereas, readlines() --> read only single line of the file."
   ]
  },
  {
   "cell_type": "markdown",
   "id": "65d7a997",
   "metadata": {},
   "source": [
    "### 9. What data structure does a shelf value resemble?"
   ]
  },
  {
   "cell_type": "markdown",
   "id": "55981f82",
   "metadata": {},
   "source": [
    "The fact that it has a key and values makes it a dictionary."
   ]
  }
 ],
 "metadata": {
  "kernelspec": {
   "display_name": "Python 3 (ipykernel)",
   "language": "python",
   "name": "python3"
  },
  "language_info": {
   "codemirror_mode": {
    "name": "ipython",
    "version": 3
   },
   "file_extension": ".py",
   "mimetype": "text/x-python",
   "name": "python",
   "nbconvert_exporter": "python",
   "pygments_lexer": "ipython3",
   "version": "3.9.7"
  }
 },
 "nbformat": 4,
 "nbformat_minor": 5
}
