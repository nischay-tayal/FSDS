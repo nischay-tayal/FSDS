{
 "cells": [
  {
   "cell_type": "markdown",
   "id": "85371df3",
   "metadata": {},
   "source": [
    "# Programming Assignment_8"
   ]
  },
  {
   "cell_type": "markdown",
   "id": "6277ac11",
   "metadata": {},
   "source": [
    "### 1. Write a Python Program to Add Two Matrices?"
   ]
  },
  {
   "cell_type": "code",
   "execution_count": 6,
   "id": "0200c89f",
   "metadata": {},
   "outputs": [
    {
     "name": "stdout",
     "output_type": "stream",
     "text": [
      "[[11 13]\n",
      " [ 5 12]]\n"
     ]
    }
   ],
   "source": [
    "import numpy as np\n",
    "m1 = np.array([[3, 4], [5, 6]])\n",
    "m2 = np.array([[8, 9], [0, 6]])\n",
    "r = np.add(m1, m2)\n",
    "print(r)"
   ]
  },
  {
   "cell_type": "markdown",
   "id": "a4e498f4",
   "metadata": {},
   "source": [
    "### 2. Write a Python Program to Multiply Two Matrices?"
   ]
  },
  {
   "cell_type": "code",
   "execution_count": 5,
   "id": "3ec45a41",
   "metadata": {},
   "outputs": [
    {
     "name": "stdout",
     "output_type": "stream",
     "text": [
      "[114 160  60  27]\n",
      "[74 97 73 14]\n",
      "[119 157 112  23]\n"
     ]
    }
   ],
   "source": [
    "import numpy as np\n",
    "\n",
    "A = [[12, 7, 3], [4, 5, 6], [7, 8, 9]] \n",
    "\n",
    "B = [[5, 8, 1, 2], [6, 7, 3, 0], [4, 5, 9, 1]]\n",
    "\n",
    "result= [[0,0,0,0], [0,0,0,0], [0,0,0,0]]\n",
    "\n",
    "result= np.dot(A,B)\n",
    "\n",
    "for p in result:\n",
    "    print(p)"
   ]
  },
  {
   "cell_type": "markdown",
   "id": "56aa3359",
   "metadata": {},
   "source": [
    "### 3. Write a Python Program to Transpose a Matrix?"
   ]
  },
  {
   "cell_type": "code",
   "execution_count": 7,
   "id": "008990e2",
   "metadata": {},
   "outputs": [
    {
     "name": "stdout",
     "output_type": "stream",
     "text": [
      "[[  3   5   4]\n",
      " [  6 -10   8]\n",
      " [  9  15  12]]\n"
     ]
    }
   ],
   "source": [
    "import numpy as np\n",
    "M1 = np.array([[3, 6, 9], [5, -10, 15], [4,8,12]])\n",
    "M2 = M1.transpose()\n",
    "print(M2)"
   ]
  },
  {
   "cell_type": "markdown",
   "id": "ea53ff2a",
   "metadata": {},
   "source": [
    "### 4. Write a Python Program to Sort Words in Alphabetic Order?"
   ]
  },
  {
   "cell_type": "code",
   "execution_count": 3,
   "id": "a54b1390",
   "metadata": {},
   "outputs": [
    {
     "name": "stdout",
     "output_type": "stream",
     "text": [
      "Enter StringHello, I am doing my Assignment\n",
      "am\n",
      "assignment\n",
      "doing\n",
      "hello,\n",
      "i\n",
      "my\n"
     ]
    }
   ],
   "source": [
    "a = input(\"Enter String\").lower()\n",
    "order = a.split()\n",
    "order.sort()\n",
    "for words in order:\n",
    "    print(words)"
   ]
  },
  {
   "cell_type": "markdown",
   "id": "295f40c2",
   "metadata": {},
   "source": [
    "### 5. Write a Python Program to Remove Punctuation From a String?"
   ]
  },
  {
   "cell_type": "code",
   "execution_count": 4,
   "id": "4e1f2550",
   "metadata": {},
   "outputs": [
    {
     "name": "stdout",
     "output_type": "stream",
     "text": [
      "Enter Stringhello! My-Name is Nischay#$%%%Tayal\n",
      "hello MyName is NischayTayal\n"
     ]
    }
   ],
   "source": [
    "punctuation = '''''!()-[]{};:'\"\\,<>./?@#$%^&*_~''' \n",
    "a = input(\"Enter String\")\n",
    "\n",
    "cleared = \"\"\n",
    "\n",
    "for char in a:\n",
    "    if char not in punctuation:\n",
    "        cleared += char\n",
    "print(cleared)"
   ]
  }
 ],
 "metadata": {
  "kernelspec": {
   "display_name": "Python 3 (ipykernel)",
   "language": "python",
   "name": "python3"
  },
  "language_info": {
   "codemirror_mode": {
    "name": "ipython",
    "version": 3
   },
   "file_extension": ".py",
   "mimetype": "text/x-python",
   "name": "python",
   "nbconvert_exporter": "python",
   "pygments_lexer": "ipython3",
   "version": "3.9.7"
  }
 },
 "nbformat": 4,
 "nbformat_minor": 5
}
