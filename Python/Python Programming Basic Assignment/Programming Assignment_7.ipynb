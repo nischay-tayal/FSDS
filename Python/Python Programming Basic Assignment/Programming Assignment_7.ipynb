{
 "cells": [
  {
   "cell_type": "markdown",
   "id": "e3782ea3",
   "metadata": {},
   "source": [
    "# Programming Assignment_7"
   ]
  },
  {
   "cell_type": "markdown",
   "id": "9cb79955",
   "metadata": {},
   "source": [
    "### 1. Write a Python Program to find sum of array?"
   ]
  },
  {
   "cell_type": "code",
   "execution_count": 1,
   "id": "34f0657f",
   "metadata": {},
   "outputs": [
    {
     "data": {
      "text/plain": [
       "21"
      ]
     },
     "execution_count": 1,
     "metadata": {},
     "output_type": "execute_result"
    }
   ],
   "source": [
    "def sum_array(*args):\n",
    "    sum=0\n",
    "    for i in args:\n",
    "        sum = sum+i\n",
    "    return sum\n",
    "    \n",
    "a = sum_array(1,2,3,4,5,6)\n",
    "a    "
   ]
  },
  {
   "cell_type": "markdown",
   "id": "3342f328",
   "metadata": {},
   "source": [
    "### 2. Write a Python Program to find largest element in an array?"
   ]
  },
  {
   "cell_type": "code",
   "execution_count": 3,
   "id": "d32ec494",
   "metadata": {},
   "outputs": [
    {
     "name": "stdout",
     "output_type": "stream",
     "text": [
      "Length of array: 5\n",
      "1\n",
      "2\n",
      "3\n",
      "4\n",
      "5\n",
      "array: [1, 2, 3, 4, 5] \n",
      " and largest element in given array is: 5\n"
     ]
    }
   ],
   "source": [
    "array = []\n",
    "size = int(input(\"Length of array: \"))\n",
    "for i in range(size):\n",
    "    elements = int(input())\n",
    "    array.append(elements)\n",
    "    \n",
    "print(\"array: {} \\n and largest element in given array is: {}\".format(array,max(array)))"
   ]
  },
  {
   "cell_type": "markdown",
   "id": "2538a61e",
   "metadata": {},
   "source": [
    "### 3. Write a Python Program for array rotation?"
   ]
  },
  {
   "cell_type": "code",
   "execution_count": 4,
   "id": "a94ac0a1",
   "metadata": {},
   "outputs": [
    {
     "name": "stdout",
     "output_type": "stream",
     "text": [
      "Length of array: 5\n",
      "10\n",
      "20\n",
      "30\n",
      "40\n",
      "50\n",
      "original array: [10, 20, 30, 40, 50] and \n",
      " rotated array is: [50, 40, 30, 20, 10]\n"
     ]
    }
   ],
   "source": [
    "array = []\n",
    "size = int(input(\"Length of array: \"))\n",
    "for i in range(size):\n",
    "    elements = int(input())\n",
    "    array.append(elements)\n",
    "    \n",
    "print(\"original array: {} and \\n rotated array is: {}\".format(array,array[::-1]))"
   ]
  },
  {
   "cell_type": "markdown",
   "id": "fcc6ed0b",
   "metadata": {},
   "source": [
    "### 4. Write a Python Program to Split the array and add the first part to the end?"
   ]
  },
  {
   "cell_type": "code",
   "execution_count": 7,
   "id": "6d7693b8",
   "metadata": {},
   "outputs": [
    {
     "name": "stdout",
     "output_type": "stream",
     "text": [
      "Enter the Array: [1,3,4,9,8]\n",
      "The Sum of First and Last Elements of Array [1, 3, 4, 9, 8] is 9\n"
     ]
    }
   ],
   "source": [
    "def sumOfSplits():\n",
    "    in_arr = eval(input(\"Enter the Array: \"))\n",
    "    print(f\"The Sum of First and Last Elements of Array {in_arr} is {in_arr[0]+in_arr[-1]}\")\n",
    "    \n",
    "sumOfSplits()"
   ]
  },
  {
   "cell_type": "markdown",
   "id": "cc6ec62a",
   "metadata": {},
   "source": [
    "### 5. Write a Python Program to check if given array is Monotonic?"
   ]
  },
  {
   "cell_type": "code",
   "execution_count": 8,
   "id": "f9495285",
   "metadata": {},
   "outputs": [],
   "source": [
    "def isMonotonic(A):\n",
    "    return (all(A[i] <= A[i + 1] for i in range(len(A) - 1)) or\n",
    "      all(A[i] >= A[i + 1] for i in range(len(A) - 1)))"
   ]
  },
  {
   "cell_type": "code",
   "execution_count": 10,
   "id": "096ccb4d",
   "metadata": {},
   "outputs": [
    {
     "data": {
      "text/plain": [
       "True"
      ]
     },
     "execution_count": 10,
     "metadata": {},
     "output_type": "execute_result"
    }
   ],
   "source": [
    "isMonotonic([5,10,50,60])"
   ]
  },
  {
   "cell_type": "code",
   "execution_count": 11,
   "id": "a13b6daa",
   "metadata": {},
   "outputs": [
    {
     "data": {
      "text/plain": [
       "False"
      ]
     },
     "execution_count": 11,
     "metadata": {},
     "output_type": "execute_result"
    }
   ],
   "source": [
    "isMonotonic([5,10,50,15])"
   ]
  }
 ],
 "metadata": {
  "kernelspec": {
   "display_name": "Python 3 (ipykernel)",
   "language": "python",
   "name": "python3"
  },
  "language_info": {
   "codemirror_mode": {
    "name": "ipython",
    "version": 3
   },
   "file_extension": ".py",
   "mimetype": "text/x-python",
   "name": "python",
   "nbconvert_exporter": "python",
   "pygments_lexer": "ipython3",
   "version": "3.9.7"
  }
 },
 "nbformat": 4,
 "nbformat_minor": 5
}
